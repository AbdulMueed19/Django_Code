{
  "nbformat": 4,
  "nbformat_minor": 0,
  "metadata": {
    "colab": {
      "provenance": [],
      "authorship_tag": "ABX9TyPnNZBczdD+GqykzMCuIljL",
      "include_colab_link": true
    },
    "kernelspec": {
      "name": "python3",
      "display_name": "Python 3"
    },
    "language_info": {
      "name": "python"
    }
  },
  "cells": [
    {
      "cell_type": "markdown",
      "metadata": {
        "id": "view-in-github",
        "colab_type": "text"
      },
      "source": [
        "<a href=\"https://colab.research.google.com/github/AbdulMueed19/Django_Code/blob/master/Lab1_AI.ipynb\" target=\"_parent\"><img src=\"https://colab.research.google.com/assets/colab-badge.svg\" alt=\"Open In Colab\"/></a>"
      ]
    },
    {
      "cell_type": "code",
      "execution_count": null,
      "metadata": {
        "id": "d2qpcRRxd2a1"
      },
      "outputs": [],
      "source": [
        "name = input(\"Enter your name: \")\n",
        "print(name)"
      ]
    },
    {
      "cell_type": "code",
      "source": [
        "rows = int(input(\"Enter no of rows: \"))\n",
        "for x in range(rows):\n",
        "    print(\"*\"*(x+1))"
      ],
      "metadata": {
        "id": "6ndG9d-YeI7E"
      },
      "execution_count": null,
      "outputs": []
    },
    {
      "cell_type": "code",
      "source": [
        "cars = ['toyota','suzuki','honda']\n",
        "fruits = ('orange','banana','apple')\n",
        "sections = {'Sec 1','Sec 2', 'Sec 3'}\n",
        "\n",
        "print(cars)\n",
        "print(fruits)\n",
        "print(sections)\n",
        "\n",
        "for x in cars:\n",
        "  print(x)\n",
        "\n",
        "for y in fruits:\n",
        "  print(y)\n",
        "\n",
        "for z in sections:\n",
        "  print(z)\n"
      ],
      "metadata": {
        "id": "2a2PFoPIhtIB"
      },
      "execution_count": null,
      "outputs": []
    },
    {
      "cell_type": "code",
      "source": [
        "print(\"Select 1 for Addition. \\nSelect 2 for Substraction. \\nSelect 3 for Division. \\nSelect 4 for Multiplication. \\nSelect 5 for Modulus. \\nSelect 6 for Exponents.\")\n",
        "option = int(input(\"Enter the operation: \"))\n",
        "numberA = int(input(\"Enter the 1st number: \"))\n",
        "numberB = int(input(\"Enter the 2nd number: \"))\n",
        "if (option==1):\n",
        "  print(numberA + numberB)\n",
        "elif (option==2):\n",
        "    print(numberA - numberB)\n",
        "elif (option==3):\n",
        "    print(numberA / numberB)\n",
        "elif (option==4):\n",
        "    print(numberA * numberB)\n",
        "elif (option==5):\n",
        "    print(numberA % numberB)\n",
        "elif (option==6):\n",
        "    print(numberA ** numberB)\n",
        "else:\n",
        "  print(\"Invalid Input\")"
      ],
      "metadata": {
        "id": "nNu8QsvMj77w"
      },
      "execution_count": null,
      "outputs": []
    },
    {
      "cell_type": "code",
      "source": [
        "while(i<3):\n",
        "  {\n",
        "  print(\"This is while loop been running\")\n",
        "  i = i+1\n",
        "  }\n",
        "while True:\n",
        "    print(\"This is do while loop been running\")\n",
        "    if (i>3):\n",
        "        break\n",
        "for x in range(3):\n",
        "  print(\"This is for loop been running\")\n"
      ],
      "metadata": {
        "id": "BUswAbIZmwiv"
      },
      "execution_count": null,
      "outputs": []
    },
    {
      "cell_type": "code",
      "source": [
        "number = int(input(\"Enter the number: \"))\n",
        "if(number%2==0):\n",
        "  print(\"The number is even\")\n",
        "else: \n",
        "  print(\"The numer is odd\")"
      ],
      "metadata": {
        "id": "ozIm8u2On9QP"
      },
      "execution_count": null,
      "outputs": []
    },
    {
      "cell_type": "code",
      "source": [
        "def Fibonacci(n):\n",
        "\tif n == 1 or n == 2:\n",
        "\t\treturn 1\n",
        "\telse:\n",
        "\t\treturn Fibonacci(n-1) + Fibonacci(n-2)\n",
        "\n",
        "n = 1\n",
        "for n in range(15):{\n",
        "\tprint(Fibonacci(n))\n",
        "\t}"
      ],
      "metadata": {
        "id": "yVSj01KWqPYu"
      },
      "execution_count": null,
      "outputs": []
    }
  ]
}